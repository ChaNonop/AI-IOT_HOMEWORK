{
 "cells": [
  {
   "cell_type": "code",
   "execution_count": null,
   "id": "8f1a67f1",
   "metadata": {},
   "outputs": [
    {
     "data": {
      "text/plain": [
       "np.float64(5.5)"
      ]
     },
     "execution_count": 6,
     "metadata": {},
     "output_type": "execute_result"
    }
   ],
   "source": [
    "import numpy as np\n",
    "\n",
    "np.mean([2,1,3,4,5,6,3,20])\n"
   ]
  },
  {
   "cell_type": "code",
   "execution_count": null,
   "id": "521e19f0",
   "metadata": {},
   "outputs": [],
   "source": [
    "a =[18, 55]\n",
    "b =[20, 60]\n",
    "c =[[50,64,28.3],\n",
    "    [35,46,89],\n",
    "    [89,10,10]]\n"
   ]
  }
 ],
 "metadata": {
  "kernelspec": {
   "display_name": "env",
   "language": "python",
   "name": "python3"
  },
  "language_info": {
   "codemirror_mode": {
    "name": "ipython",
    "version": 3
   },
   "file_extension": ".py",
   "mimetype": "text/x-python",
   "name": "python",
   "nbconvert_exporter": "python",
   "pygments_lexer": "ipython3",
   "version": "3.13.5"
  }
 },
 "nbformat": 4,
 "nbformat_minor": 5
}
