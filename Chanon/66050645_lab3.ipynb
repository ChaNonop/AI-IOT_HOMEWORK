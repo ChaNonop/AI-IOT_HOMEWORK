{
 "cells": [
  {
   "cell_type": "code",
   "execution_count": 6,
   "id": "a4e083f8",
   "metadata": {},
   "outputs": [
    {
     "name": "stdout",
     "output_type": "stream",
     "text": [
      "hello my name is chanon Somwang\n",
      "\n",
      "32\n"
     ]
    }
   ],
   "source": [
    "f = open('myfiles/hellofile.txt',mode ='r')\n",
    "data = f.readline()\n",
    "print(data)\n",
    "print(len(data))\n",
    "\n"
   ]
  },
  {
   "cell_type": "code",
   "execution_count": null,
   "id": "a27c68ea",
   "metadata": {},
   "outputs": [
    {
     "name": "stdout",
     "output_type": "stream",
     "text": [
      "hello my name is chanon Somwang\n",
      "I love pythonnew wordnew wordnew word\n",
      "HI,what my nameHI,what my nameHI,what my name new word\n",
      "\n"
     ]
    }
   ],
   "source": [
    "# เขียนต่อท้ายไฟล์\n",
    "with open('myfiles/hellofile.txt', mode='a') as f:\n",
    "    f.write(' new word\\n')\n",
    "\n",
    "# อ่านไฟล์\n",
    "with open('myfiles/hellofile.txt', mode='r') as f:\n",
    "    print(f.read())"
   ]
  },
  {
   "cell_type": "code",
   "execution_count": null,
   "id": "fbdb77fe",
   "metadata": {},
   "outputs": [
    {
     "ename": "ValueError",
     "evalue": "I/O operation on closed file.",
     "output_type": "error",
     "traceback": [
      "\u001b[31m---------------------------------------------------------------------------\u001b[39m",
      "\u001b[31mValueError\u001b[39m                                Traceback (most recent call last)",
      "\u001b[36mCell\u001b[39m\u001b[36m \u001b[39m\u001b[32mIn[5]\u001b[39m\u001b[32m, line 4\u001b[39m\n\u001b[32m      2\u001b[39m f.write(\u001b[33m'\u001b[39m\u001b[33mHI,what my name\u001b[39m\u001b[33m'\u001b[39m)\n\u001b[32m      3\u001b[39m f.close()\n\u001b[32m----> \u001b[39m\u001b[32m4\u001b[39m \u001b[38;5;28mprint\u001b[39m(\u001b[43mf\u001b[49m\u001b[43m.\u001b[49m\u001b[43mread\u001b[49m\u001b[43m(\u001b[49m\u001b[43m)\u001b[49m)\n\u001b[32m      5\u001b[39m f.seek((\u001b[32m0\u001b[39m))\n\u001b[32m      6\u001b[39m \u001b[38;5;28mprint\u001b[39m(f.read())\n",
      "\u001b[31mValueError\u001b[39m: I/O operation on closed file."
     ]
    }
   ],
   "source": [
    "with open('myfiles/hellofile.txt', mode='a') as f:\n",
    "    f.write('HI,what my name')\n",
    "    f.close()\n",
    "    print(f.read())\n",
    "    f.seek((0))\n",
    "    print(f.read())\n",
    "    f.write('\\n')"
   ]
  },
  {
   "cell_type": "code",
   "execution_count": null,
   "id": "254b0270",
   "metadata": {},
   "outputs": [
    {
     "name": "stdout",
     "output_type": "stream",
     "text": [
      "[10, 30, 56]\n",
      "[10, 30, 56]\n",
      "[10, 30, 56]\n"
     ]
    }
   ],
   "source": [
    "area = [(2,5), (5,6), (7,8)] # area เป็ น list\n",
    "result = map(lambda x : x[0]*x[1], area) #result เป็ น map\n",
    "print(list(result))\n",
    "\n",
    "print( list(map(lambda x : x[0]*x[1], area)))\n",
    "\n",
    "print([x[0]*x[1] for x in area])"
   ]
  },
  {
   "cell_type": "code",
   "execution_count": null,
   "id": "03eea8b9",
   "metadata": {},
   "outputs": [
    {
     "name": "stdout",
     "output_type": "stream",
     "text": [
      "<class 'list'>\n",
      "[400, 800, 1200]\n",
      "[400, 800, 1200]\n"
     ]
    }
   ],
   "source": [
    "tojpy = [100,200,300]\n",
    "def jpy_thb(m):\n",
    "    return m * 4\n",
    "\n",
    "print(type(tojpy))\n",
    "print(list(map(lambda m: m *4, tojpy)))\n",
    "print(list(map(jpy_thb, tojpy)))"
   ]
  },
  {
   "cell_type": "code",
   "execution_count": null,
   "id": "6457b85d",
   "metadata": {},
   "outputs": [
    {
     "name": "stdout",
     "output_type": "stream",
     "text": [
      "15\n",
      "15\n"
     ]
    }
   ],
   "source": [
    "from functools import reduce\n",
    "print(reduce(lambda x, y:x+y,[1,2,3,4,5]))\n",
    "\n",
    "print(sum([1,2,3,4,5]))"
   ]
  },
  {
   "cell_type": "code",
   "execution_count": null,
   "id": "f87cef84",
   "metadata": {},
   "outputs": [
    {
     "name": "stdout",
     "output_type": "stream",
     "text": [
      "[1, 3, 5, 7, 9]\n"
     ]
    }
   ],
   "source": [
    "# ตัวอย่างกรองเลขคู่ number\n",
    "numbers = [1, 2, 3, 4, 5, 6, 7, 8, 9, 10]\n",
    "def is_even(num):   \n",
    "    return num % 2 == 0\n",
    "even_numbers = list(filter(is_even, numbers))\n",
    "print(even_numbers)"
   ]
  },
  {
   "cell_type": "code",
   "execution_count": null,
   "id": "5ea0f430",
   "metadata": {},
   "outputs": [
    {
     "name": "stdout",
     "output_type": "stream",
     "text": [
      "[1, 3, 5, 7, 9]\n"
     ]
    }
   ],
   "source": [
    "# ตัวอย่างกรองเลขคู่ number\n",
    "numbers = [1, 2, 3, 4, 5, 6, 7, 8, 9, 10]\n",
    "def is_even(num):   \n",
    "    return not(num % 2 == 0)\n",
    "even_numbers = list(filter(is_even, numbers))\n",
    "print(even_numbers)"
   ]
  },
  {
   "cell_type": "code",
   "execution_count": null,
   "id": "035be0b4",
   "metadata": {},
   "outputs": [
    {
     "name": "stdout",
     "output_type": "stream",
     "text": [
      "['Nick', 'Mike']\n",
      "['Nick', 'Mike']\n"
     ]
    }
   ],
   "source": [
    "names = ['Dave', 'Nick', 'Tom', 'Mike']\n",
    "print(list(filter(lambda s: s[0] in ['M', 'N'], names)))\n",
    "# ถ้าใช ้ list\n",
    "print ([x for x in names if x[0] in ['M','N']])"
   ]
  },
  {
   "cell_type": "code",
   "execution_count": null,
   "id": "72ac3444",
   "metadata": {},
   "outputs": [
    {
     "data": {
      "text/plain": [
       "['C:\\\\ProgramData\\\\miniconda3\\\\python313.zip',\n",
       " 'C:\\\\ProgramData\\\\miniconda3\\\\DLLs',\n",
       " 'C:\\\\ProgramData\\\\miniconda3\\\\Lib',\n",
       " 'C:\\\\ProgramData\\\\miniconda3',\n",
       " 'c:\\\\1_Python\\\\new\\\\env',\n",
       " '',\n",
       " 'c:\\\\1_Python\\\\new\\\\env\\\\Lib\\\\site-packages',\n",
       " 'c:\\\\1_Python\\\\new\\\\env\\\\Lib\\\\site-packages\\\\win32',\n",
       " 'c:\\\\1_Python\\\\new\\\\env\\\\Lib\\\\site-packages\\\\win32\\\\lib',\n",
       " 'c:\\\\1_Python\\\\new\\\\env\\\\Lib\\\\site-packages\\\\Pythonwin']"
      ]
     },
     "execution_count": 23,
     "metadata": {},
     "output_type": "execute_result"
    }
   ],
   "source": [
    "import sys # มันจะอ่านไฟล์ที่เรียกใช้ก่อนแล้วค่อยไปาอ่าน sitepacket \n",
    "sys.path"
   ]
  },
  {
   "cell_type": "code",
   "execution_count": null,
   "id": "d14b7131",
   "metadata": {},
   "outputs": [],
   "source": []
  }
 ],
 "metadata": {
  "kernelspec": {
   "display_name": "env",
   "language": "python",
   "name": "python3"
  },
  "language_info": {
   "codemirror_mode": {
    "name": "ipython",
    "version": 3
   },
   "file_extension": ".py",
   "mimetype": "text/x-python",
   "name": "python",
   "nbconvert_exporter": "python",
   "pygments_lexer": "ipython3",
   "version": "3.13.7"
  }
 },
 "nbformat": 4,
 "nbformat_minor": 5
}
