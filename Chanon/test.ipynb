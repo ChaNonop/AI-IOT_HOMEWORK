{
 "cells": [
  {
   "cell_type": "code",
   "execution_count": null,
   "id": "25f62c67",
   "metadata": {},
   "outputs": [
    {
     "data": {
      "text/plain": [
       "['C:\\\\ProgramData\\\\miniconda3\\\\python313.zip',\n",
       " 'C:\\\\ProgramData\\\\miniconda3\\\\DLLs',\n",
       " 'C:\\\\ProgramData\\\\miniconda3\\\\Lib',\n",
       " 'C:\\\\ProgramData\\\\miniconda3',\n",
       " 'c:\\\\Users\\\\Andre\\\\Documents\\\\Chanon\\\\env',\n",
       " '',\n",
       " 'c:\\\\Users\\\\Andre\\\\Documents\\\\Chanon\\\\env\\\\Lib\\\\site-packages',\n",
       " 'c:\\\\Users\\\\Andre\\\\Documents\\\\Chanon\\\\env\\\\Lib\\\\site-packages\\\\win32',\n",
       " 'c:\\\\Users\\\\Andre\\\\Documents\\\\Chanon\\\\env\\\\Lib\\\\site-packages\\\\win32\\\\lib',\n",
       " 'c:\\\\Users\\\\Andre\\\\Documents\\\\Chanon\\\\env\\\\Lib\\\\site-packages\\\\Pythonwin']"
      ]
     },
     "execution_count": 1,
     "metadata": {},
     "output_type": "execute_result"
    }
   ],
   "source": [
    "import sys # มันจะอ่านไฟล์ที่เรียกใช้ก่อนแล้วค่อยไปาอ่าน sitepacket \n",
    "sys.path"
   ]
  },
  {
   "cell_type": "code",
   "execution_count": null,
   "id": "8209e625",
   "metadata": {},
   "outputs": [
    {
     "name": "stdout",
     "output_type": "stream",
     "text": [
      "Use from current folder\n"
     ]
    },
    {
     "data": {
      "text/plain": [
       "[570, 415, 884]"
      ]
     },
     "execution_count": 2,
     "metadata": {},
     "output_type": "execute_result"
    }
   ],
   "source": [
    "import myluck_2\n",
    "myluck_2.lotto(3)"
   ]
  },
  {
   "cell_type": "code",
   "execution_count": 3,
   "id": "2c7a51bf",
   "metadata": {},
   "outputs": [
    {
     "name": "stdout",
     "output_type": "stream",
     "text": [
      "Use from current folder\n"
     ]
    },
    {
     "data": {
      "text/plain": [
       "[53, 87, 3]"
      ]
     },
     "execution_count": 3,
     "metadata": {},
     "output_type": "execute_result"
    }
   ],
   "source": [
    "import myluck\n",
    "myluck.lotto(3)"
   ]
  },
  {
   "cell_type": "code",
   "execution_count": 4,
   "id": "9dc8a9a5",
   "metadata": {},
   "outputs": [
    {
     "name": "stdout",
     "output_type": "stream",
     "text": [
      "Use from current folder\n"
     ]
    },
    {
     "data": {
      "text/plain": [
       "[95, 69, 48, 23, 40, 71, 56, 70, 50, 30]"
      ]
     },
     "execution_count": 4,
     "metadata": {},
     "output_type": "execute_result"
    }
   ],
   "source": [
    "from mypackage import mylucky\n",
    "mylucky.lotto(10)"
   ]
  },
  {
   "cell_type": "code",
   "execution_count": null,
   "id": "375fce30",
   "metadata": {},
   "outputs": [],
   "source": []
  }
 ],
 "metadata": {
  "kernelspec": {
   "display_name": "env",
   "language": "python",
   "name": "python3"
  },
  "language_info": {
   "codemirror_mode": {
    "name": "ipython",
    "version": 3
   },
   "file_extension": ".py",
   "mimetype": "text/x-python",
   "name": "python",
   "nbconvert_exporter": "python",
   "pygments_lexer": "ipython3",
   "version": "3.13.7"
  }
 },
 "nbformat": 4,
 "nbformat_minor": 5
}
